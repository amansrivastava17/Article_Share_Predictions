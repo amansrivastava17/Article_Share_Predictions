{
 "cells": [
  {
   "cell_type": "markdown",
   "metadata": {},
   "source": [
    "# Prophesee Data Science - Predicting number of shares for an Article"
   ]
  },
  {
   "cell_type": "markdown",
   "metadata": {},
   "source": [
    "<b>Problem Statement</b>: Blogs and articles are the key tools for any publisher brand, but not every article is a hit. Brands are now using digital analytics to increase their reach and target the right audience. One such popular brand of Europe wants to improve their content, so that it reaches more number of people. The brand wants to predict number of shares one article can garner based on certain features."
   ]
  },
  {
   "cell_type": "code",
   "execution_count": 145,
   "metadata": {
    "collapsed": false
   },
   "outputs": [],
   "source": [
    "# imports\n",
    "import pandas as pd\n",
    "import matplotlib.pylab as plt\n",
    "import numpy as np\n",
    "from sklearn.ensemble import RandomForestClassifier\n",
    "from sklearn.ensemble import GradientBoostingClassifier\n",
    "from sklearn.cross_validation import train_test_split\n",
    "from sklearn import metrics\n",
    "from sklearn.cross_validation import cross_val_score\n",
    "from patsy import dmatrices\n",
    "from sklearn.metrics import roc_auc_score\n",
    "import xgboost as xgb\n",
    "#from xgboost.sklearn import XGBClassifier\n",
    "\n",
    "# this allows plots to appear directly in the notebook\n",
    "%matplotlib inline"
   ]
  },
  {
   "cell_type": "markdown",
   "metadata": {},
   "source": [
    "<H3>Articles Data</h3><br>\n",
    "Let's take a look at some data, ask some questions about that data, and then use machine learning models to answer those questions!"
   ]
  },
  {
   "cell_type": "code",
   "execution_count": 146,
   "metadata": {
    "collapsed": false
   },
   "outputs": [
    {
     "data": {
      "text/html": [
       "<div>\n",
       "<table border=\"1\" class=\"dataframe\">\n",
       "  <thead>\n",
       "    <tr style=\"text-align: right;\">\n",
       "      <th></th>\n",
       "      <th>id</th>\n",
       "      <th>n_tokens_title</th>\n",
       "      <th>n_tokens_content</th>\n",
       "      <th>n_unique_tokens</th>\n",
       "      <th>n_non_stop_words</th>\n",
       "      <th>n_non_stop_unique_tokens</th>\n",
       "      <th>num_hrefs</th>\n",
       "      <th>num_imgs</th>\n",
       "      <th>num_videos</th>\n",
       "      <th>num_keywords</th>\n",
       "      <th>...</th>\n",
       "      <th>weekday_is_tuesday</th>\n",
       "      <th>weekday_is_wednesday</th>\n",
       "      <th>weekday_is_thursday</th>\n",
       "      <th>weekday_is_friday</th>\n",
       "      <th>weekday_is_saturday</th>\n",
       "      <th>weekday_is_sunday</th>\n",
       "      <th>is_weekend</th>\n",
       "      <th>global_subjectivity</th>\n",
       "      <th>global_sentiment_polarity</th>\n",
       "      <th>shares</th>\n",
       "    </tr>\n",
       "  </thead>\n",
       "  <tbody>\n",
       "    <tr>\n",
       "      <th>0</th>\n",
       "      <td>1</td>\n",
       "      <td>12</td>\n",
       "      <td>219</td>\n",
       "      <td>0.663594</td>\n",
       "      <td>1</td>\n",
       "      <td>0.815385</td>\n",
       "      <td>4</td>\n",
       "      <td>1</td>\n",
       "      <td>0</td>\n",
       "      <td>5</td>\n",
       "      <td>...</td>\n",
       "      <td>0</td>\n",
       "      <td>0</td>\n",
       "      <td>0</td>\n",
       "      <td>0</td>\n",
       "      <td>0</td>\n",
       "      <td>0</td>\n",
       "      <td>0</td>\n",
       "      <td>0.521617</td>\n",
       "      <td>0.092562</td>\n",
       "      <td>593</td>\n",
       "    </tr>\n",
       "    <tr>\n",
       "      <th>1</th>\n",
       "      <td>2</td>\n",
       "      <td>9</td>\n",
       "      <td>255</td>\n",
       "      <td>0.604743</td>\n",
       "      <td>1</td>\n",
       "      <td>0.791946</td>\n",
       "      <td>3</td>\n",
       "      <td>1</td>\n",
       "      <td>0</td>\n",
       "      <td>4</td>\n",
       "      <td>...</td>\n",
       "      <td>0</td>\n",
       "      <td>0</td>\n",
       "      <td>0</td>\n",
       "      <td>0</td>\n",
       "      <td>0</td>\n",
       "      <td>0</td>\n",
       "      <td>0</td>\n",
       "      <td>0.341246</td>\n",
       "      <td>0.148948</td>\n",
       "      <td>711</td>\n",
       "    </tr>\n",
       "    <tr>\n",
       "      <th>2</th>\n",
       "      <td>3</td>\n",
       "      <td>9</td>\n",
       "      <td>211</td>\n",
       "      <td>0.575130</td>\n",
       "      <td>1</td>\n",
       "      <td>0.663866</td>\n",
       "      <td>3</td>\n",
       "      <td>1</td>\n",
       "      <td>0</td>\n",
       "      <td>6</td>\n",
       "      <td>...</td>\n",
       "      <td>0</td>\n",
       "      <td>0</td>\n",
       "      <td>0</td>\n",
       "      <td>0</td>\n",
       "      <td>0</td>\n",
       "      <td>0</td>\n",
       "      <td>0</td>\n",
       "      <td>0.702222</td>\n",
       "      <td>0.323333</td>\n",
       "      <td>1500</td>\n",
       "    </tr>\n",
       "    <tr>\n",
       "      <th>3</th>\n",
       "      <td>4</td>\n",
       "      <td>9</td>\n",
       "      <td>531</td>\n",
       "      <td>0.503788</td>\n",
       "      <td>1</td>\n",
       "      <td>0.665635</td>\n",
       "      <td>9</td>\n",
       "      <td>1</td>\n",
       "      <td>0</td>\n",
       "      <td>7</td>\n",
       "      <td>...</td>\n",
       "      <td>0</td>\n",
       "      <td>0</td>\n",
       "      <td>0</td>\n",
       "      <td>0</td>\n",
       "      <td>0</td>\n",
       "      <td>0</td>\n",
       "      <td>0</td>\n",
       "      <td>0.429850</td>\n",
       "      <td>0.100705</td>\n",
       "      <td>1200</td>\n",
       "    </tr>\n",
       "    <tr>\n",
       "      <th>4</th>\n",
       "      <td>5</td>\n",
       "      <td>13</td>\n",
       "      <td>1072</td>\n",
       "      <td>0.415646</td>\n",
       "      <td>1</td>\n",
       "      <td>0.540890</td>\n",
       "      <td>19</td>\n",
       "      <td>20</td>\n",
       "      <td>0</td>\n",
       "      <td>7</td>\n",
       "      <td>...</td>\n",
       "      <td>0</td>\n",
       "      <td>0</td>\n",
       "      <td>0</td>\n",
       "      <td>0</td>\n",
       "      <td>0</td>\n",
       "      <td>0</td>\n",
       "      <td>0</td>\n",
       "      <td>0.513502</td>\n",
       "      <td>0.281003</td>\n",
       "      <td>505</td>\n",
       "    </tr>\n",
       "  </tbody>\n",
       "</table>\n",
       "<p>5 rows × 27 columns</p>\n",
       "</div>"
      ],
      "text/plain": [
       "   id   n_tokens_title   n_tokens_content   n_unique_tokens  \\\n",
       "0   1               12                219          0.663594   \n",
       "1   2                9                255          0.604743   \n",
       "2   3                9                211          0.575130   \n",
       "3   4                9                531          0.503788   \n",
       "4   5               13               1072          0.415646   \n",
       "\n",
       "    n_non_stop_words   n_non_stop_unique_tokens   num_hrefs   num_imgs  \\\n",
       "0                  1                   0.815385           4          1   \n",
       "1                  1                   0.791946           3          1   \n",
       "2                  1                   0.663866           3          1   \n",
       "3                  1                   0.665635           9          1   \n",
       "4                  1                   0.540890          19         20   \n",
       "\n",
       "    num_videos   num_keywords   ...      weekday_is_tuesday  \\\n",
       "0            0              5   ...                       0   \n",
       "1            0              4   ...                       0   \n",
       "2            0              6   ...                       0   \n",
       "3            0              7   ...                       0   \n",
       "4            0              7   ...                       0   \n",
       "\n",
       "    weekday_is_wednesday   weekday_is_thursday   weekday_is_friday  \\\n",
       "0                      0                     0                   0   \n",
       "1                      0                     0                   0   \n",
       "2                      0                     0                   0   \n",
       "3                      0                     0                   0   \n",
       "4                      0                     0                   0   \n",
       "\n",
       "    weekday_is_saturday   weekday_is_sunday   is_weekend  \\\n",
       "0                     0                   0            0   \n",
       "1                     0                   0            0   \n",
       "2                     0                   0            0   \n",
       "3                     0                   0            0   \n",
       "4                     0                   0            0   \n",
       "\n",
       "    global_subjectivity   global_sentiment_polarity   shares  \n",
       "0              0.521617                    0.092562      593  \n",
       "1              0.341246                    0.148948      711  \n",
       "2              0.702222                    0.323333     1500  \n",
       "3              0.429850                    0.100705     1200  \n",
       "4              0.513502                    0.281003      505  \n",
       "\n",
       "[5 rows x 27 columns]"
      ]
     },
     "execution_count": 146,
     "metadata": {},
     "output_type": "execute_result"
    }
   ],
   "source": [
    "# read data into a DataFrame\n",
    "df = pd.read_csv(\"~/data/PropheSee_Problem/ArticlesData.csv\")\n",
    "df.head()"
   ]
  },
  {
   "cell_type": "markdown",
   "metadata": {},
   "source": [
    "what are the **features**?<br>\n",
    "<ul><li>id:                             Unique Id</li> \n",
    "    <li>n_tokens_title:                Number of words in the title</li>\n",
    "    <li>n_tokens_content:              Number of words in the content</li>\n",
    "    <li>n_unique_tokens:               Rate of unique words in the content</li>\n",
    "    <li>n_non_stop_words:              Rate of non-stop words in the content</li>\n",
    "    <li>n_non_stop_unique_tokens:      Rate of unique non-stop words in the content</li>\n",
    "    <li>num_hrefs:                     Number of links</li>\n",
    "    <li>num_imgs:                      Number of images</li>\n",
    "    <li>num_videos:                    Number of videos</li>\n",
    "    <li>num_keywords:                  Number of keywords in the metadata</li>\n",
    "    <li>data_channel_is_lifestyle:     Is data channel 'Lifestyle'?</li>\n",
    "    <li>data_channel_is_entertainment: Is data channel 'Entertainment'?</li>\n",
    "    <li>data_channel_is_bus:           Is data channel 'Business'?</li>\n",
    "    <li>data_channel_is_socmed:        Is data channel 'Social Media'?</li>\n",
    "    <li>data_channel_is_tech:          Is data channel 'Tech'?</li>\n",
    "    <li>data_channel_is_world:         Is data channel 'World'?</li>\n",
    "    <li>weekday_is_monday:             Was the article published on a Monday?</li>\n",
    "    <li>weekday_is_tuesday:            Was the article published on a Tuesday?</li>\n",
    "    <li>weekday_is_wednesday:          Was the article published on a Wednesday?</li>\n",
    "    <li>weekday_is_thursday:           Was the article published on a Thursday?</li>\n",
    "    <li>weekday_is_friday:             Was the article published on a Friday?</li>\n",
    "    <li>weekday_is_saturday:           Was the article published on a Saturday?</li>\n",
    "    <li>weekday_is_sunday:             Was the article published on a Sunday?</li>\n",
    "    <li>is_weekend:                    Was the article published on the weekend?</li>\n",
    "    <li>global_subjectivity:           Text subjectivity</li>\n",
    "    <li>global_sentiment_polarity:     Text sentiment polarity</li></ul><br>\n",
    "    what is the **response**?<br>\n",
    "<ul><li>shares:                             Number of shares</li> "
   ]
  },
  {
   "cell_type": "code",
   "execution_count": 147,
   "metadata": {
    "collapsed": false
   },
   "outputs": [
    {
     "data": {
      "text/plain": [
       "(39644, 27)"
      ]
     },
     "execution_count": 147,
     "metadata": {},
     "output_type": "execute_result"
    }
   ],
   "source": [
    "# removing unwanted white spaces from features name\n",
    "df.columns = [x.strip() for x in list(df)]\n",
    "# print the shape of the DataFrame\n",
    "df.shape"
   ]
  },
  {
   "cell_type": "markdown",
   "metadata": {},
   "source": [
    "There are 39644 **observations**. Thus 39644 Articles in the dataset"
   ]
  },
  {
   "cell_type": "markdown",
   "metadata": {},
   "source": [
    "<h2>Data Exploration</h2>"
   ]
  },
  {
   "cell_type": "code",
   "execution_count": 148,
   "metadata": {
    "collapsed": false,
    "scrolled": true
   },
   "outputs": [
    {
     "data": {
      "text/plain": [
       "0.10      708\n",
       "0.25      946\n",
       "0.50     1400\n",
       "0.75     2800\n",
       "0.90     6200\n",
       "0.95    10800\n",
       "0.99    31657\n",
       "Name: shares, dtype: float64"
      ]
     },
     "execution_count": 148,
     "metadata": {},
     "output_type": "execute_result"
    }
   ],
   "source": [
    "# let's see distribution of target variable 'shares'\n",
    "df['shares'].describe()\n",
    "df['shares'].quantile([.10,.25,.5,.75,.9,.95,.99])"
   ]
  },
  {
   "cell_type": "code",
   "execution_count": 149,
   "metadata": {
    "collapsed": false
   },
   "outputs": [],
   "source": [
    "# remove outliers by removing top 1% and bottom 1% quantile data\n",
    "df = df[(df['shares']>df['shares'].quantile(.01))&(df['shares']<df['shares'].quantile(.99))]\n",
    "\n",
    "# visualize the relationship between the features and the response using scatterplots\n",
    "fig, axs = plt.subplots(5, 5, sharey=True)\n",
    "features = list(df)[1:-1]\n",
    "target = list(df)[-1]\n",
    "row = 0\n",
    "column = 0\n",
    "for i in range(0,len(features)):\n",
    "    column = i%5\n",
    "    df.plot(kind='scatter', x=features[i], y=target, ax=axs[row,column], figsize=(20, 10))\n",
    "    row = row+1 if column==4 else row"
   ]
  },
  {
   "cell_type": "code",
   "execution_count": 151,
   "metadata": {
    "collapsed": false
   },
   "outputs": [
    {
     "data": {
      "text/plain": [
       "id                              -0.027401\n",
       "n_tokens_title                  -0.014021\n",
       "n_tokens_content                 0.004610\n",
       "n_unique_tokens                  0.003378\n",
       "n_non_stop_words                 0.003147\n",
       "n_non_stop_unique_tokens         0.002217\n",
       "num_hrefs                        0.075471\n",
       "num_imgs                         0.073834\n",
       "num_videos                       0.037906\n",
       "num_keywords                     0.041547\n",
       "data_channel_is_lifestyle        0.025247\n",
       "data_channel_is_entertainment   -0.038246\n",
       "data_channel_is_bus             -0.044741\n",
       "data_channel_is_socmed           0.042730\n",
       "data_channel_is_tech             0.011349\n",
       "data_channel_is_world           -0.100002\n",
       "weekday_is_monday                0.001649\n",
       "weekday_is_tuesday              -0.017005\n",
       "weekday_is_wednesday            -0.021200\n",
       "weekday_is_thursday             -0.016228\n",
       "weekday_is_friday               -0.004159\n",
       "weekday_is_saturday              0.043211\n",
       "weekday_is_sunday                0.045661\n",
       "is_weekend                       0.065191\n",
       "global_subjectivity              0.052640\n",
       "global_sentiment_polarity        0.017251\n",
       "shares                           1.000000\n",
       "Name: shares, dtype: float64"
      ]
     },
     "execution_count": 151,
     "metadata": {},
     "output_type": "execute_result"
    }
   ],
   "source": [
    "# also find pearson correlation between features and target\n",
    "df.corr(method='pearson',min_periods=1)['shares']"
   ]
  },
  {
   "cell_type": "markdown",
   "metadata": {},
   "source": [
    "Seeing above correlation we can conclude some insights like:\n",
    "<li>Articles published on weekends (Saturday,Sunday) and monday performs better than other weekdays.</li><li>Increase in length of title corresponds to decrease in number of shares</li><li>Datachannel social-media and tech perform better than others</li>\n",
    "<br>\n",
    "But as the correlation is not that much strong so applying linear regression does not yield any good prediction model here<br>\n",
    "Lets try solving by making continuous target variable into classes of buckets and then using various classification models to predict the number of shares an article can get. "
   ]
  },
  {
   "cell_type": "markdown",
   "metadata": {},
   "source": [
    "<h3>Deciding buckets for target variable</h3><br>\n",
    "Looking at quantiles of dataset lets make classes for 25%,50%,75% quantiles\n",
    "<li><b>class 1 :</b> < 1000</li>\n",
    "<li><b>class 2 :</b> >= 1000 and < 2000</li>\n",
    "<li><b>class 3 :</b> >= 2000</li>\n",
    "\n"
   ]
  },
  {
   "cell_type": "code",
   "execution_count": 152,
   "metadata": {
    "collapsed": false
   },
   "outputs": [
    {
     "data": {
      "text/plain": [
       "2    14007\n",
       "3    13993\n",
       "1    10849\n",
       "Name: targetClass, dtype: int64"
      ]
     },
     "execution_count": 152,
     "metadata": {},
     "output_type": "execute_result"
    }
   ],
   "source": [
    "# creating class target variable in dataframe\n",
    "targetClass = []\n",
    "for value in list(df['shares']):\n",
    "    if value<1000:\n",
    "        targetClass.append(1)\n",
    "    elif value>=1000 and value<2000:\n",
    "        targetClass.append(2)\n",
    "    elif value>=2000:\n",
    "        targetClass.append(3)\n",
    "df['targetClass'] = targetClass\n",
    "df['targetClass'].value_counts()"
   ]
  },
  {
   "cell_type": "code",
   "execution_count": 165,
   "metadata": {
    "collapsed": false
   },
   "outputs": [
    {
     "data": {
      "text/html": [
       "<div>\n",
       "<table border=\"1\" class=\"dataframe\">\n",
       "  <thead>\n",
       "    <tr style=\"text-align: right;\">\n",
       "      <th></th>\n",
       "      <th>id</th>\n",
       "      <th>n_tokens_title</th>\n",
       "      <th>n_tokens_content</th>\n",
       "      <th>n_unique_tokens</th>\n",
       "      <th>n_non_stop_words</th>\n",
       "      <th>n_non_stop_unique_tokens</th>\n",
       "      <th>num_hrefs</th>\n",
       "      <th>num_imgs</th>\n",
       "      <th>num_videos</th>\n",
       "      <th>num_keywords</th>\n",
       "      <th>...</th>\n",
       "      <th>weekday_is_friday</th>\n",
       "      <th>weekday_is_saturday</th>\n",
       "      <th>weekday_is_sunday</th>\n",
       "      <th>is_weekend</th>\n",
       "      <th>global_subjectivity</th>\n",
       "      <th>global_sentiment_polarity</th>\n",
       "      <th>shares</th>\n",
       "      <th>targetClass</th>\n",
       "      <th>weekday</th>\n",
       "      <th>datachannel</th>\n",
       "    </tr>\n",
       "  </thead>\n",
       "  <tbody>\n",
       "    <tr>\n",
       "      <th>0</th>\n",
       "      <td>1</td>\n",
       "      <td>12</td>\n",
       "      <td>219</td>\n",
       "      <td>0.663594</td>\n",
       "      <td>1</td>\n",
       "      <td>0.815385</td>\n",
       "      <td>4</td>\n",
       "      <td>1</td>\n",
       "      <td>0</td>\n",
       "      <td>5</td>\n",
       "      <td>...</td>\n",
       "      <td>0</td>\n",
       "      <td>0</td>\n",
       "      <td>0</td>\n",
       "      <td>0</td>\n",
       "      <td>0.521617</td>\n",
       "      <td>0.092562</td>\n",
       "      <td>593</td>\n",
       "      <td>1</td>\n",
       "      <td>tuesday</td>\n",
       "      <td>entertainment</td>\n",
       "    </tr>\n",
       "    <tr>\n",
       "      <th>1</th>\n",
       "      <td>2</td>\n",
       "      <td>9</td>\n",
       "      <td>255</td>\n",
       "      <td>0.604743</td>\n",
       "      <td>1</td>\n",
       "      <td>0.791946</td>\n",
       "      <td>3</td>\n",
       "      <td>1</td>\n",
       "      <td>0</td>\n",
       "      <td>4</td>\n",
       "      <td>...</td>\n",
       "      <td>0</td>\n",
       "      <td>0</td>\n",
       "      <td>0</td>\n",
       "      <td>0</td>\n",
       "      <td>0.341246</td>\n",
       "      <td>0.148948</td>\n",
       "      <td>711</td>\n",
       "      <td>1</td>\n",
       "      <td>tuesday</td>\n",
       "      <td>world</td>\n",
       "    </tr>\n",
       "    <tr>\n",
       "      <th>2</th>\n",
       "      <td>3</td>\n",
       "      <td>9</td>\n",
       "      <td>211</td>\n",
       "      <td>0.575130</td>\n",
       "      <td>1</td>\n",
       "      <td>0.663866</td>\n",
       "      <td>3</td>\n",
       "      <td>1</td>\n",
       "      <td>0</td>\n",
       "      <td>6</td>\n",
       "      <td>...</td>\n",
       "      <td>0</td>\n",
       "      <td>0</td>\n",
       "      <td>0</td>\n",
       "      <td>0</td>\n",
       "      <td>0.702222</td>\n",
       "      <td>0.323333</td>\n",
       "      <td>1500</td>\n",
       "      <td>2</td>\n",
       "      <td>tuesday</td>\n",
       "      <td>world</td>\n",
       "    </tr>\n",
       "    <tr>\n",
       "      <th>3</th>\n",
       "      <td>4</td>\n",
       "      <td>9</td>\n",
       "      <td>531</td>\n",
       "      <td>0.503788</td>\n",
       "      <td>1</td>\n",
       "      <td>0.665635</td>\n",
       "      <td>9</td>\n",
       "      <td>1</td>\n",
       "      <td>0</td>\n",
       "      <td>7</td>\n",
       "      <td>...</td>\n",
       "      <td>0</td>\n",
       "      <td>0</td>\n",
       "      <td>0</td>\n",
       "      <td>0</td>\n",
       "      <td>0.429850</td>\n",
       "      <td>0.100705</td>\n",
       "      <td>1200</td>\n",
       "      <td>2</td>\n",
       "      <td>tuesday</td>\n",
       "      <td>entertainment</td>\n",
       "    </tr>\n",
       "    <tr>\n",
       "      <th>4</th>\n",
       "      <td>5</td>\n",
       "      <td>13</td>\n",
       "      <td>1072</td>\n",
       "      <td>0.415646</td>\n",
       "      <td>1</td>\n",
       "      <td>0.540890</td>\n",
       "      <td>19</td>\n",
       "      <td>20</td>\n",
       "      <td>0</td>\n",
       "      <td>7</td>\n",
       "      <td>...</td>\n",
       "      <td>0</td>\n",
       "      <td>0</td>\n",
       "      <td>0</td>\n",
       "      <td>0</td>\n",
       "      <td>0.513502</td>\n",
       "      <td>0.281003</td>\n",
       "      <td>505</td>\n",
       "      <td>1</td>\n",
       "      <td>tuesday</td>\n",
       "      <td>technology</td>\n",
       "    </tr>\n",
       "  </tbody>\n",
       "</table>\n",
       "<p>5 rows × 30 columns</p>\n",
       "</div>"
      ],
      "text/plain": [
       "   id  n_tokens_title  n_tokens_content  n_unique_tokens  n_non_stop_words  \\\n",
       "0   1              12               219         0.663594                 1   \n",
       "1   2               9               255         0.604743                 1   \n",
       "2   3               9               211         0.575130                 1   \n",
       "3   4               9               531         0.503788                 1   \n",
       "4   5              13              1072         0.415646                 1   \n",
       "\n",
       "   n_non_stop_unique_tokens  num_hrefs  num_imgs  num_videos  num_keywords  \\\n",
       "0                  0.815385          4         1           0             5   \n",
       "1                  0.791946          3         1           0             4   \n",
       "2                  0.663866          3         1           0             6   \n",
       "3                  0.665635          9         1           0             7   \n",
       "4                  0.540890         19        20           0             7   \n",
       "\n",
       "       ...        weekday_is_friday  weekday_is_saturday  weekday_is_sunday  \\\n",
       "0      ...                        0                    0                  0   \n",
       "1      ...                        0                    0                  0   \n",
       "2      ...                        0                    0                  0   \n",
       "3      ...                        0                    0                  0   \n",
       "4      ...                        0                    0                  0   \n",
       "\n",
       "   is_weekend  global_subjectivity  global_sentiment_polarity  shares  \\\n",
       "0           0             0.521617                   0.092562     593   \n",
       "1           0             0.341246                   0.148948     711   \n",
       "2           0             0.702222                   0.323333    1500   \n",
       "3           0             0.429850                   0.100705    1200   \n",
       "4           0             0.513502                   0.281003     505   \n",
       "\n",
       "   targetClass  weekday    datachannel  \n",
       "0            1  tuesday  entertainment  \n",
       "1            1  tuesday          world  \n",
       "2            2  tuesday          world  \n",
       "3            2  tuesday  entertainment  \n",
       "4            1  tuesday     technology  \n",
       "\n",
       "[5 rows x 30 columns]"
      ]
     },
     "execution_count": 165,
     "metadata": {},
     "output_type": "execute_result"
    }
   ],
   "source": [
    "#new dataframe\n",
    "df.head()"
   ]
  },
  {
   "cell_type": "markdown",
   "metadata": {},
   "source": [
    "Also lets transform some binary feature vectors under one categorical fetaure set i.e for publication mode and publication weekday."
   ]
  },
  {
   "cell_type": "code",
   "execution_count": 167,
   "metadata": {
    "collapsed": false
   },
   "outputs": [],
   "source": [
    "# Publication weekday\n",
    "df1 = df[[\"weekday_is_monday\",\"weekday_is_tuesday\",\"weekday_is_wednesday\",\"weekday_is_thursday\",\"weekday_is_friday\",\"weekday_is_saturday\",\"weekday_is_sunday\"]]\n",
    "weekdays = [\"monday\",\"tuesday\",\"wednesday\",\"thursday\",\"friday\",\"saturday\",\"sunday\"]\n",
    "days = []\n",
    "\n",
    "for index,row in df1.iterrows():\n",
    "    try:\n",
    "        dy = weekdays[dict(row).values().index(1)]\n",
    "    except:\n",
    "        dy = None\n",
    "    days.append(dy)\n",
    "df['weekday'] = days\n",
    "\n",
    "# Publication mode\n",
    "df2 = df[[\"data_channel_is_lifestyle\",\"data_channel_is_entertainment\",\"data_channel_is_bus\",\"data_channel_is_socmed\",\"data_channel_is_tech\",\"data_channel_is_world\"]]\n",
    "datachannels = [\"lifestyle\",\"entertainment\",\"business\",\"socialmedia\",\"technology\",\"world\"]\n",
    "channels = []\n",
    "\n",
    "for index,row in df2.iterrows():\n",
    "    try:\n",
    "        chn = datachannels[dict(row).values().index(1)]\n",
    "    except ValueError:\n",
    "        chn = None\n",
    "    channels.append(chn)\n",
    "df['datachannel'] = channels"
   ]
  },
  {
   "cell_type": "code",
   "execution_count": 168,
   "metadata": {
    "collapsed": false
   },
   "outputs": [
    {
     "data": {
      "text/html": [
       "<div>\n",
       "<table border=\"1\" class=\"dataframe\">\n",
       "  <thead>\n",
       "    <tr style=\"text-align: right;\">\n",
       "      <th></th>\n",
       "      <th>id</th>\n",
       "      <th>n_tokens_title</th>\n",
       "      <th>n_tokens_content</th>\n",
       "      <th>n_unique_tokens</th>\n",
       "      <th>n_non_stop_words</th>\n",
       "      <th>n_non_stop_unique_tokens</th>\n",
       "      <th>num_hrefs</th>\n",
       "      <th>num_imgs</th>\n",
       "      <th>num_videos</th>\n",
       "      <th>num_keywords</th>\n",
       "      <th>...</th>\n",
       "      <th>weekday_is_tuesday</th>\n",
       "      <th>weekday_is_wednesday</th>\n",
       "      <th>weekday_is_thursday</th>\n",
       "      <th>weekday_is_friday</th>\n",
       "      <th>weekday_is_saturday</th>\n",
       "      <th>weekday_is_sunday</th>\n",
       "      <th>is_weekend</th>\n",
       "      <th>global_subjectivity</th>\n",
       "      <th>global_sentiment_polarity</th>\n",
       "      <th>shares</th>\n",
       "    </tr>\n",
       "    <tr>\n",
       "      <th>targetClass</th>\n",
       "      <th></th>\n",
       "      <th></th>\n",
       "      <th></th>\n",
       "      <th></th>\n",
       "      <th></th>\n",
       "      <th></th>\n",
       "      <th></th>\n",
       "      <th></th>\n",
       "      <th></th>\n",
       "      <th></th>\n",
       "      <th></th>\n",
       "      <th></th>\n",
       "      <th></th>\n",
       "      <th></th>\n",
       "      <th></th>\n",
       "      <th></th>\n",
       "      <th></th>\n",
       "      <th></th>\n",
       "      <th></th>\n",
       "      <th></th>\n",
       "      <th></th>\n",
       "    </tr>\n",
       "  </thead>\n",
       "  <tbody>\n",
       "    <tr>\n",
       "      <th>1</th>\n",
       "      <td>20339.978708</td>\n",
       "      <td>10.558116</td>\n",
       "      <td>515.909393</td>\n",
       "      <td>0.540235</td>\n",
       "      <td>0.973362</td>\n",
       "      <td>0.684307</td>\n",
       "      <td>9.534151</td>\n",
       "      <td>3.898332</td>\n",
       "      <td>1.249424</td>\n",
       "      <td>7.061941</td>\n",
       "      <td>...</td>\n",
       "      <td>0.210158</td>\n",
       "      <td>0.219467</td>\n",
       "      <td>0.205180</td>\n",
       "      <td>0.133469</td>\n",
       "      <td>0.020371</td>\n",
       "      <td>0.029127</td>\n",
       "      <td>0.049498</td>\n",
       "      <td>0.432588</td>\n",
       "      <td>0.109542</td>\n",
       "      <td>767.702830</td>\n",
       "    </tr>\n",
       "    <tr>\n",
       "      <th>2</th>\n",
       "      <td>20233.944099</td>\n",
       "      <td>10.399158</td>\n",
       "      <td>545.260084</td>\n",
       "      <td>0.530652</td>\n",
       "      <td>0.973299</td>\n",
       "      <td>0.674089</td>\n",
       "      <td>10.613479</td>\n",
       "      <td>4.303206</td>\n",
       "      <td>1.178197</td>\n",
       "      <td>7.184693</td>\n",
       "      <td>...</td>\n",
       "      <td>0.183908</td>\n",
       "      <td>0.178839</td>\n",
       "      <td>0.177840</td>\n",
       "      <td>0.149283</td>\n",
       "      <td>0.067252</td>\n",
       "      <td>0.077390</td>\n",
       "      <td>0.144642</td>\n",
       "      <td>0.442013</td>\n",
       "      <td>0.120168</td>\n",
       "      <td>1377.397016</td>\n",
       "    </tr>\n",
       "    <tr>\n",
       "      <th>3</th>\n",
       "      <td>19089.602801</td>\n",
       "      <td>10.283499</td>\n",
       "      <td>572.673051</td>\n",
       "      <td>0.571904</td>\n",
       "      <td>1.038877</td>\n",
       "      <td>0.707980</td>\n",
       "      <td>12.132280</td>\n",
       "      <td>5.277710</td>\n",
       "      <td>1.322518</td>\n",
       "      <td>7.385621</td>\n",
       "      <td>...</td>\n",
       "      <td>0.170728</td>\n",
       "      <td>0.171228</td>\n",
       "      <td>0.171943</td>\n",
       "      <td>0.145859</td>\n",
       "      <td>0.088544</td>\n",
       "      <td>0.092904</td>\n",
       "      <td>0.181448</td>\n",
       "      <td>0.452079</td>\n",
       "      <td>0.126227</td>\n",
       "      <td>5544.515115</td>\n",
       "    </tr>\n",
       "  </tbody>\n",
       "</table>\n",
       "<p>3 rows × 27 columns</p>\n",
       "</div>"
      ],
      "text/plain": [
       "                       id  n_tokens_title  n_tokens_content  n_unique_tokens  \\\n",
       "targetClass                                                                    \n",
       "1            20339.978708       10.558116        515.909393         0.540235   \n",
       "2            20233.944099       10.399158        545.260084         0.530652   \n",
       "3            19089.602801       10.283499        572.673051         0.571904   \n",
       "\n",
       "             n_non_stop_words  n_non_stop_unique_tokens  num_hrefs  num_imgs  \\\n",
       "targetClass                                                                    \n",
       "1                    0.973362                  0.684307   9.534151  3.898332   \n",
       "2                    0.973299                  0.674089  10.613479  4.303206   \n",
       "3                    1.038877                  0.707980  12.132280  5.277710   \n",
       "\n",
       "             num_videos  num_keywords     ...       weekday_is_tuesday  \\\n",
       "targetClass                               ...                            \n",
       "1              1.249424      7.061941     ...                 0.210158   \n",
       "2              1.178197      7.184693     ...                 0.183908   \n",
       "3              1.322518      7.385621     ...                 0.170728   \n",
       "\n",
       "             weekday_is_wednesday  weekday_is_thursday  weekday_is_friday  \\\n",
       "targetClass                                                                 \n",
       "1                        0.219467             0.205180           0.133469   \n",
       "2                        0.178839             0.177840           0.149283   \n",
       "3                        0.171228             0.171943           0.145859   \n",
       "\n",
       "             weekday_is_saturday  weekday_is_sunday  is_weekend  \\\n",
       "targetClass                                                       \n",
       "1                       0.020371           0.029127    0.049498   \n",
       "2                       0.067252           0.077390    0.144642   \n",
       "3                       0.088544           0.092904    0.181448   \n",
       "\n",
       "             global_subjectivity  global_sentiment_polarity       shares  \n",
       "targetClass                                                               \n",
       "1                       0.432588                   0.109542   767.702830  \n",
       "2                       0.442013                   0.120168  1377.397016  \n",
       "3                       0.452079                   0.126227  5544.515115  \n",
       "\n",
       "[3 rows x 27 columns]"
      ]
     },
     "execution_count": 168,
     "metadata": {},
     "output_type": "execute_result"
    }
   ],
   "source": [
    "df.groupby('targetClass').mean()"
   ]
  },
  {
   "cell_type": "markdown",
   "metadata": {
    "collapsed": true
   },
   "source": [
    "Increase in number of links,images,videos on article corresponds to increase in shares"
   ]
  },
  {
   "cell_type": "code",
   "execution_count": 170,
   "metadata": {
    "collapsed": false
   },
   "outputs": [
    {
     "data": {
      "text/html": [
       "<div>\n",
       "<table border=\"1\" class=\"dataframe\">\n",
       "  <thead>\n",
       "    <tr style=\"text-align: right;\">\n",
       "      <th></th>\n",
       "      <th>id</th>\n",
       "      <th>n_tokens_title</th>\n",
       "      <th>n_tokens_content</th>\n",
       "      <th>n_unique_tokens</th>\n",
       "      <th>n_non_stop_words</th>\n",
       "      <th>n_non_stop_unique_tokens</th>\n",
       "      <th>num_hrefs</th>\n",
       "      <th>num_imgs</th>\n",
       "      <th>num_videos</th>\n",
       "      <th>num_keywords</th>\n",
       "      <th>...</th>\n",
       "      <th>weekday_is_tuesday</th>\n",
       "      <th>weekday_is_wednesday</th>\n",
       "      <th>weekday_is_thursday</th>\n",
       "      <th>weekday_is_friday</th>\n",
       "      <th>weekday_is_saturday</th>\n",
       "      <th>weekday_is_sunday</th>\n",
       "      <th>global_subjectivity</th>\n",
       "      <th>global_sentiment_polarity</th>\n",
       "      <th>shares</th>\n",
       "      <th>targetClass</th>\n",
       "    </tr>\n",
       "    <tr>\n",
       "      <th>is_weekend</th>\n",
       "      <th></th>\n",
       "      <th></th>\n",
       "      <th></th>\n",
       "      <th></th>\n",
       "      <th></th>\n",
       "      <th></th>\n",
       "      <th></th>\n",
       "      <th></th>\n",
       "      <th></th>\n",
       "      <th></th>\n",
       "      <th></th>\n",
       "      <th></th>\n",
       "      <th></th>\n",
       "      <th></th>\n",
       "      <th></th>\n",
       "      <th></th>\n",
       "      <th></th>\n",
       "      <th></th>\n",
       "      <th></th>\n",
       "      <th></th>\n",
       "      <th></th>\n",
       "    </tr>\n",
       "  </thead>\n",
       "  <tbody>\n",
       "    <tr>\n",
       "      <th>0</th>\n",
       "      <td>19859.983258</td>\n",
       "      <td>10.407681</td>\n",
       "      <td>537.214567</td>\n",
       "      <td>0.55258</td>\n",
       "      <td>1.001215</td>\n",
       "      <td>0.693605</td>\n",
       "      <td>10.533973</td>\n",
       "      <td>4.368329</td>\n",
       "      <td>1.274306</td>\n",
       "      <td>7.165081</td>\n",
       "      <td>...</td>\n",
       "      <td>0.214686</td>\n",
       "      <td>0.215782</td>\n",
       "      <td>0.211071</td>\n",
       "      <td>0.165348</td>\n",
       "      <td>0.000000</td>\n",
       "      <td>0.000000</td>\n",
       "      <td>0.442061</td>\n",
       "      <td>0.118547</td>\n",
       "      <td>2615.388212</td>\n",
       "      <td>2.033840</td>\n",
       "    </tr>\n",
       "    <tr>\n",
       "      <th>1</th>\n",
       "      <td>19794.441592</td>\n",
       "      <td>10.363583</td>\n",
       "      <td>611.249118</td>\n",
       "      <td>0.51913</td>\n",
       "      <td>0.968640</td>\n",
       "      <td>0.659682</td>\n",
       "      <td>13.009800</td>\n",
       "      <td>5.684241</td>\n",
       "      <td>1.089769</td>\n",
       "      <td>7.604469</td>\n",
       "      <td>...</td>\n",
       "      <td>0.000000</td>\n",
       "      <td>0.000000</td>\n",
       "      <td>0.000000</td>\n",
       "      <td>0.000000</td>\n",
       "      <td>0.470796</td>\n",
       "      <td>0.529204</td>\n",
       "      <td>0.449260</td>\n",
       "      <td>0.124915</td>\n",
       "      <td>3321.227362</td>\n",
       "      <td>2.392395</td>\n",
       "    </tr>\n",
       "  </tbody>\n",
       "</table>\n",
       "<p>2 rows × 27 columns</p>\n",
       "</div>"
      ],
      "text/plain": [
       "                      id  n_tokens_title  n_tokens_content  n_unique_tokens  \\\n",
       "is_weekend                                                                    \n",
       "0           19859.983258       10.407681        537.214567          0.55258   \n",
       "1           19794.441592       10.363583        611.249118          0.51913   \n",
       "\n",
       "            n_non_stop_words  n_non_stop_unique_tokens  num_hrefs  num_imgs  \\\n",
       "is_weekend                                                                    \n",
       "0                   1.001215                  0.693605  10.533973  4.368329   \n",
       "1                   0.968640                  0.659682  13.009800  5.684241   \n",
       "\n",
       "            num_videos  num_keywords     ...       weekday_is_tuesday  \\\n",
       "is_weekend                               ...                            \n",
       "0             1.274306      7.165081     ...                 0.214686   \n",
       "1             1.089769      7.604469     ...                 0.000000   \n",
       "\n",
       "            weekday_is_wednesday  weekday_is_thursday  weekday_is_friday  \\\n",
       "is_weekend                                                                 \n",
       "0                       0.215782             0.211071           0.165348   \n",
       "1                       0.000000             0.000000           0.000000   \n",
       "\n",
       "            weekday_is_saturday  weekday_is_sunday  global_subjectivity  \\\n",
       "is_weekend                                                                \n",
       "0                      0.000000           0.000000             0.442061   \n",
       "1                      0.470796           0.529204             0.449260   \n",
       "\n",
       "            global_sentiment_polarity       shares  targetClass  \n",
       "is_weekend                                                       \n",
       "0                            0.118547  2615.388212     2.033840  \n",
       "1                            0.124915  3321.227362     2.392395  \n",
       "\n",
       "[2 rows x 27 columns]"
      ]
     },
     "execution_count": 170,
     "metadata": {},
     "output_type": "execute_result"
    }
   ],
   "source": [
    "df.groupby('is_weekend').mean()"
   ]
  },
  {
   "cell_type": "markdown",
   "metadata": {},
   "source": [
    "Weekend post corresponds to higher number of shares campared to other weekdays."
   ]
  },
  {
   "cell_type": "markdown",
   "metadata": {},
   "source": [
    "<h2>Data Visualization</h2><br>\n",
    "Let's start with histograms of title and content length."
   ]
  },
  {
   "cell_type": "code",
   "execution_count": 172,
   "metadata": {
    "collapsed": false
   },
   "outputs": [
    {
     "data": {
      "text/plain": [
       "<matplotlib.text.Text at 0x233531850>"
      ]
     },
     "execution_count": 172,
     "metadata": {},
     "output_type": "execute_result"
    },
    {
     "data": {
      "image/png": "[encoded data removed]",
      "text/plain": [
       "<matplotlib.figure.Figure at 0x235c70850>"
      ]
     },
     "metadata": {},
     "output_type": "display_data"
    }
   ],
   "source": [
    "# histogram of title length\n",
    "df.n_tokens_title.hist()\n",
    "plt.title('Histogram of title length')\n",
    "plt.xlabel('Title Length')\n",
    "plt.ylabel('Frequency')"
   ]
  },
  {
   "cell_type": "code",
   "execution_count": 180,
   "metadata": {
    "collapsed": false
   },
   "outputs": [
    {
     "data": {
      "text/plain": [
       "<matplotlib.text.Text at 0x27652a2d0>"
      ]
     },
     "execution_count": 180,
     "metadata": {},
     "output_type": "execute_result"
    },
    {
     "data": {
      "image/png": "[encoded data removed]",
      "text/plain": [
       "<matplotlib.figure.Figure at 0x24a9f6890>"
      ]
     },
     "metadata": {},
     "output_type": "display_data"
    }
   ],
   "source": [
    "# histogram of content length\n",
    "df.n_tokens_content.hist(bins=100)\n",
    "plt.title('Histogram of content length')\n",
    "plt.xlabel('Content Length')\n",
    "plt.ylabel('Frequency')"
   ]
  },
  {
   "cell_type": "markdown",
   "metadata": {},
   "source": [
    "As seen content length seems highly skewed, lets apply log to convert it into normal form."
   ]
  },
  {
   "cell_type": "code",
   "execution_count": 181,
   "metadata": {
    "collapsed": false
   },
   "outputs": [
    {
     "data": {
      "text/plain": [
       "<matplotlib.axes._subplots.AxesSubplot at 0x2767d3f90>"
      ]
     },
     "execution_count": 181,
     "metadata": {},
     "output_type": "execute_result"
    },
    {
     "data": {
      "image/png": "[encoded data removed]",
      "text/plain": [
       "<matplotlib.figure.Figure at 0x276819e10>"
      ]
     },
     "metadata": {},
     "output_type": "display_data"
    }
   ],
   "source": [
    "# applying log on content length\n",
    "df['n_tokens_content'] = np.log1p(df.n_tokens_content)\n",
    "df.n_tokens_content.hist(bins=100)"
   ]
  },
  {
   "cell_type": "markdown",
   "metadata": {},
   "source": [
    "Lets take a look at how each datachannel is performing by taking a look at avg number of shares."
   ]
  },
  {
   "cell_type": "code",
   "execution_count": 193,
   "metadata": {
    "collapsed": false
   },
   "outputs": [
    {
     "data": {
      "image/png": "[encoded data removed]",
      "text/plain": [
       "<matplotlib.figure.Figure at 0x278097ad0>"
      ]
     },
     "metadata": {},
     "output_type": "display_data"
    }
   ],
   "source": [
    "datachannel = df.groupby([\"datachannel\"]).aggregate({'shares':np.mean})\n",
    "ax = datachannel.plot(kind='bar', title =\"DataChannel Performance\",figsize=(10,5),legend=True, fontsize=12)\n",
    "ax.set_xlabel(\"DataChannel\",fontsize=12)\n",
    "ax.set_ylabel(\"Shares\",fontsize=12)\n",
    "plt.show()"
   ]
  },
  {
   "cell_type": "markdown",
   "metadata": {},
   "source": [
    "Business and social media out performs other datachannel."
   ]
  },
  {
   "cell_type": "code",
   "execution_count": 213,
   "metadata": {
    "collapsed": false
   },
   "outputs": [
    {
     "data": {
      "image/png": "[encoded data removed]",
      "text/plain": [
       "<matplotlib.figure.Figure at 0x2779c8590>"
      ]
     },
     "metadata": {},
     "output_type": "display_data"
    }
   ],
   "source": [
    "channel_week = df.groupby([\"datachannel\",\"weekday\"]).aggregate({'shares':np.mean})\n",
    "channel_week = channel_week.reset_index()\n",
    "channel_week = channel_week.pivot(index='datachannel', columns='weekday', values='shares')\n",
    "ax = channel_week.plot(kind='bar', title =\"DataChannel Performance\",figsize=(20,5),legend=True, fontsize=12)\n",
    "plt.legend(loc='center left', bbox_to_anchor=(1.0, 0.5))\n",
    "ax.set_xlabel(\"DataChannel\",fontsize=12)\n",
    "ax.set_ylabel(\"Shares\",fontsize=12)\n",
    "plt.show()"
   ]
  },
  {
   "cell_type": "markdown",
   "metadata": {},
   "source": [
    "For each datachannel weekends performs the better. Saturday is best choice for business,entertainment, while sunday is best day for social media,lifestyle and world. "
   ]
  },
  {
   "cell_type": "markdown",
   "metadata": {},
   "source": [
    "<h2>Prepare Data for Random Forest</h2><br>\n",
    "To prepare the data, we are deciding the feature set and target variable using dmatrices function from the patsy module."
   ]
  },
  {
   "cell_type": "code",
   "execution_count": 224,
   "metadata": {
    "collapsed": false
   },
   "outputs": [],
   "source": [
    "# feature set and target set from dataframe\n",
    "y, X = dmatrices('targetClass ~ n_tokens_title + n_tokens_content+n_unique_tokens+n_non_stop_unique_tokens+num_imgs+ num_hrefs+num_videos+num_keywords+weekday+is_weekend+datachannel+global_subjectivity+global_sentiment_polarity',\n",
    "                  df_new, return_type=\"dataframe\")\n",
    "X = X.as_matrix()\n",
    "y = y['targetClass'] "
   ]
  },
  {
   "cell_type": "markdown",
   "metadata": {},
   "source": [
    "<h2>Random Forest</h2><br>\n",
    "Let's go ahead and run Random Forest on the entire data set, and see how accurate it is!"
   ]
  },
  {
   "cell_type": "code",
   "execution_count": 225,
   "metadata": {
    "collapsed": false
   },
   "outputs": [
    {
     "data": {
      "text/plain": [
       "RandomForestClassifier(bootstrap=True, class_weight=None, criterion='gini',\n",
       "            max_depth=None, max_features='sqrt', max_leaf_nodes=None,\n",
       "            min_samples_leaf=5, min_samples_split=2,\n",
       "            min_weight_fraction_leaf=0.0, n_estimators=300, n_jobs=1,\n",
       "            oob_score=True, random_state=None, verbose=0, warm_start=False)"
      ]
     },
     "execution_count": 225,
     "metadata": {},
     "output_type": "execute_result"
    }
   ],
   "source": [
    "# Create Random Forest object\n",
    "model= RandomForestClassifier(n_estimators=300,min_samples_leaf=5,oob_score =True,max_features='sqrt')\n",
    "# Train the model using the training sets and check score\n",
    "model.fit(X, y)"
   ]
  },
  {
   "cell_type": "code",
   "execution_count": 226,
   "metadata": {
    "collapsed": false
   },
   "outputs": [
    {
     "data": {
      "text/plain": [
       "0.87873264679972052"
      ]
     },
     "execution_count": 226,
     "metadata": {},
     "output_type": "execute_result"
    }
   ],
   "source": [
    "model.score(X, y)"
   ]
  },
  {
   "cell_type": "markdown",
   "metadata": {},
   "source": [
    "88% accuracy seems good, but what's the null error rate?"
   ]
  },
  {
   "cell_type": "markdown",
   "metadata": {},
   "source": [
    "<h2>Model Evaluation Using a Validation Set</h2><br>\n",
    "So far, we have trained and tested on the same set. Let's instead split the data into a training set and a testing set."
   ]
  },
  {
   "cell_type": "code",
   "execution_count": 227,
   "metadata": {
    "collapsed": false
   },
   "outputs": [
    {
     "data": {
      "text/plain": [
       "RandomForestClassifier(bootstrap=True, class_weight=None, criterion='gini',\n",
       "            max_depth=None, max_features='sqrt', max_leaf_nodes=None,\n",
       "            min_samples_leaf=5, min_samples_split=2,\n",
       "            min_weight_fraction_leaf=0.0, n_estimators=300, n_jobs=1,\n",
       "            oob_score=True, random_state=0, verbose=0, warm_start=False)"
      ]
     },
     "execution_count": 227,
     "metadata": {},
     "output_type": "execute_result"
    }
   ],
   "source": [
    "# evaluate the model by splitting into train and test sets\n",
    "X_train, X_test, y_train, y_test = train_test_split(X, y, test_size=0.3, random_state=0)\n",
    "model2 = RandomForestClassifier(n_estimators=300,min_samples_leaf=5,oob_score =True,random_state=0,max_features='sqrt')\n",
    "model2.fit(X_train, y_train)"
   ]
  },
  {
   "cell_type": "markdown",
   "metadata": {},
   "source": [
    "We now need to predict class labels for the test set. We will also generate the class probabilities, just to take a look."
   ]
  },
  {
   "cell_type": "code",
   "execution_count": 228,
   "metadata": {
    "collapsed": false
   },
   "outputs": [
    {
     "name": "stdout",
     "output_type": "stream",
     "text": [
      "[ 1.  1.  1. ...,  3.  1.  3.]\n"
     ]
    }
   ],
   "source": [
    "# predict class labels for the test set\n",
    "predicted = model2.predict(X_test)\n",
    "print predicted"
   ]
  },
  {
   "cell_type": "code",
   "execution_count": 229,
   "metadata": {
    "collapsed": false
   },
   "outputs": [
    {
     "name": "stdout",
     "output_type": "stream",
     "text": [
      "[[ 0.42711443  0.29652699  0.27635858]\n",
      " [ 0.39320234  0.35199579  0.25480187]\n",
      " [ 0.49422553  0.38200769  0.12376678]\n",
      " ..., \n",
      " [ 0.17070063  0.34787234  0.48142703]\n",
      " [ 0.61177866  0.2650761   0.12314524]\n",
      " [ 0.22405441  0.38512432  0.39082128]]\n"
     ]
    }
   ],
   "source": [
    "# generate class probabilities\n",
    "probs = model2.predict_proba(X_test)\n",
    "print probs"
   ]
  },
  {
   "cell_type": "markdown",
   "metadata": {},
   "source": [
    "Now let's generate some evaluation metrics."
   ]
  },
  {
   "cell_type": "code",
   "execution_count": 231,
   "metadata": {
    "collapsed": false
   },
   "outputs": [
    {
     "name": "stdout",
     "output_type": "stream",
     "text": [
      "0.453219927096\n"
     ]
    }
   ],
   "source": [
    "# generate evaluation metrics\n",
    "print metrics.accuracy_score(y_test, predicted)"
   ]
  },
  {
   "cell_type": "markdown",
   "metadata": {},
   "source": [
    "The accuracy comes out to be 46%.\n",
    "\n",
    "We can also see the confusion matrix and a classification report with other metrics to improve our model."
   ]
  },
  {
   "cell_type": "code",
   "execution_count": 232,
   "metadata": {
    "collapsed": false
   },
   "outputs": [
    {
     "name": "stdout",
     "output_type": "stream",
     "text": [
      "[[1479  925  451]\n",
      " [1086 1408 1151]\n",
      " [ 706 1081 1589]]\n",
      "             precision    recall  f1-score   support\n",
      "\n",
      "        1.0       0.45      0.52      0.48      2855\n",
      "        2.0       0.41      0.39      0.40      3645\n",
      "        3.0       0.50      0.47      0.48      3376\n",
      "\n",
      "avg / total       0.45      0.45      0.45      9876\n",
      "\n"
     ]
    }
   ],
   "source": [
    "print metrics.confusion_matrix(y_test, predicted)\n",
    "print metrics.classification_report(y_test, predicted)"
   ]
  },
  {
   "cell_type": "markdown",
   "metadata": {},
   "source": [
    "<h2>Model Evaluation Using Cross-Validation</h2><br>\n",
    "Now let's try 10-fold cross-validation, to see if the accuracy holds up more rigorously."
   ]
  },
  {
   "cell_type": "code",
   "execution_count": 233,
   "metadata": {
    "collapsed": false
   },
   "outputs": [
    {
     "name": "stdout",
     "output_type": "stream",
     "text": [
      "[ 0.42575159  0.43273611  0.44093532  0.43303978  0.45034923  0.4644593\n",
      "  0.46308113  0.47098146  0.47112462  0.44650456]\n",
      "0.449896309506\n"
     ]
    }
   ],
   "source": [
    "# evaluate the model using 10-fold cross-validation\n",
    "scores = cross_val_score(model2, X, y, scoring='accuracy', cv=10)\n",
    "print scores\n",
    "print scores.mean()"
   ]
  },
  {
   "cell_type": "markdown",
   "metadata": {},
   "source": [
    "Looks good. It's still performing at 46% accuracy."
   ]
  },
  {
   "cell_type": "markdown",
   "metadata": {},
   "source": [
    "<h2>Next Steps</h2><br>\n",
    "There are many different steps that could be tried in order to improve the model:<br>\n",
    "<li>Removing features and deriving new features</li><li>regularization techniques</li><li>Applying boosting Algorithms</li> "
   ]
  }
 ],
 "metadata": {
  "kernelspec": {
   "display_name": "Python 2",
   "language": "python",
   "name": "python2"
  },
  "language_info": {
   "codemirror_mode": {
    "name": "ipython",
    "version": 2
   },
   "file_extension": ".py",
   "mimetype": "text/x-python",
   "name": "python",
   "nbconvert_exporter": "python",
   "pygments_lexer": "ipython2",
   "version": "2.7.11"
  }
 },
 "nbformat": 4,
 "nbformat_minor": 0
}
